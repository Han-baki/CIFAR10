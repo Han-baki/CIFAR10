{
 "cells": [
  {
   "cell_type": "code",
   "execution_count": 1,
   "metadata": {
    "colab": {
     "base_uri": "https://localhost:8080/",
     "height": 34
    },
    "colab_type": "code",
    "executionInfo": {
     "elapsed": 759,
     "status": "ok",
     "timestamp": 1565588561356,
     "user": {
      "displayName": "한상준",
      "photoUrl": "",
      "userId": "11527713768863174571"
     },
     "user_tz": -540
    },
    "id": "uD7sp7rtcozu",
    "outputId": "18cc198c-c523-4b2a-e1cf-6541567712f1"
   },
   "outputs": [
    {
     "name": "stdout",
     "output_type": "stream",
     "text": [
      "Drive already mounted at /content/drive; to attempt to forcibly remount, call drive.mount(\"/content/drive\", force_remount=True).\n"
     ]
    }
   ],
   "source": [
    "from google.colab import drive\n",
    "drive.mount('/content/drive')"
   ]
  },
  {
   "cell_type": "code",
   "execution_count": 2,
   "metadata": {
    "colab": {
     "base_uri": "https://localhost:8080/",
     "height": 34
    },
    "colab_type": "code",
    "executionInfo": {
     "elapsed": 753,
     "status": "ok",
     "timestamp": 1565588564040,
     "user": {
      "displayName": "한상준",
      "photoUrl": "",
      "userId": "11527713768863174571"
     },
     "user_tz": -540
    },
    "id": "nbV3JZSccySu",
    "outputId": "f316b5ae-498d-4a9e-f39d-2081b8232f83"
   },
   "outputs": [
    {
     "data": {
      "text/plain": [
       "'/content/drive/My Drive/cifar10_project'"
      ]
     },
     "execution_count": 2,
     "metadata": {
      "tags": []
     },
     "output_type": "execute_result"
    }
   ],
   "source": [
    "import os\n",
    "os.chdir('/content/drive/My Drive/cifar10_project')\n",
    "os.getcwd()"
   ]
  },
  {
   "cell_type": "code",
   "execution_count": 4,
   "metadata": {
    "colab": {
     "base_uri": "https://localhost:8080/",
     "height": 811
    },
    "colab_type": "code",
    "executionInfo": {
     "elapsed": 124698,
     "status": "ok",
     "timestamp": 1565588879001,
     "user": {
      "displayName": "한상준",
      "photoUrl": "",
      "userId": "11527713768863174571"
     },
     "user_tz": -540
    },
    "id": "UJgu9onxBj2E",
    "outputId": "3b741f93-8691-4b95-c918-43f278474567"
   },
   "outputs": [
    {
     "name": "stderr",
     "output_type": "stream",
     "text": [
      "W0812 05:45:53.940450 140135313717120 deprecation_wrapper.py:119] From /content/drive/My Drive/cifar10_project/vgg16.py:21: The name tf.placeholder is deprecated. Please use tf.compat.v1.placeholder instead.\n",
      "\n",
      "W0812 05:45:53.958200 140135313717120 deprecation.py:323] From /content/drive/My Drive/cifar10_project/vgg16.py:25: conv2d (from tensorflow.python.layers.convolutional) is deprecated and will be removed in a future version.\n",
      "Instructions for updating:\n",
      "Use `tf.keras.layers.Conv2D` instead.\n",
      "W0812 05:45:53.963312 140135313717120 deprecation.py:506] From /usr/local/lib/python3.6/dist-packages/tensorflow/python/ops/init_ops.py:1251: calling VarianceScaling.__init__ (from tensorflow.python.ops.init_ops) with dtype is deprecated and will be removed in a future version.\n",
      "Instructions for updating:\n",
      "Call initializer instance with the dtype argument instead of passing it to the constructor\n"
     ]
    },
    {
     "name": "stdout",
     "output_type": "stream",
     "text": [
      "image shape:  (6, 10000, 32, 32, 3)\n",
      "label shape:  (6, 10000)\n"
     ]
    },
    {
     "name": "stderr",
     "output_type": "stream",
     "text": [
      "W0812 05:45:54.184321 140135313717120 deprecation.py:323] From /content/drive/My Drive/cifar10_project/vgg16.py:27: max_pooling2d (from tensorflow.python.layers.pooling) is deprecated and will be removed in a future version.\n",
      "Instructions for updating:\n",
      "Use keras.layers.MaxPooling2D instead.\n",
      "W0812 05:45:54.365252 140135313717120 deprecation.py:323] From /content/drive/My Drive/cifar10_project/vgg16.py:38: flatten (from tensorflow.python.layers.core) is deprecated and will be removed in a future version.\n",
      "Instructions for updating:\n",
      "Use keras.layers.flatten instead.\n",
      "W0812 05:45:54.657966 140135313717120 deprecation.py:323] From /content/drive/My Drive/cifar10_project/vgg16.py:39: dense (from tensorflow.python.layers.core) is deprecated and will be removed in a future version.\n",
      "Instructions for updating:\n",
      "Use keras.layers.dense instead.\n",
      "W0812 05:45:55.216236 140135313717120 deprecation_wrapper.py:119] From /content/drive/My Drive/cifar10_project/cifar10_train.py:12: The name tf.Session is deprecated. Please use tf.compat.v1.Session instead.\n",
      "\n",
      "W0812 05:45:55.416764 140135313717120 deprecation_wrapper.py:119] From /content/drive/My Drive/cifar10_project/cifar10_train.py:13: The name tf.global_variables_initializer is deprecated. Please use tf.compat.v1.global_variables_initializer instead.\n",
      "\n"
     ]
    },
    {
     "name": "stdout",
     "output_type": "stream",
     "text": [
      "Epoch: 1 Avg_cost: 0.0019158658981323243\n",
      "Accuracy:  0.6079\n",
      "Epoch: 2 Avg_cost: 0.0016455056667327881\n",
      "Accuracy:  0.6964\n",
      "Epoch: 3 Avg_cost: 0.0014431742429733276\n",
      "Accuracy:  0.729\n",
      "Epoch: 4 Avg_cost: 0.0014207279682159424\n",
      "Accuracy:  0.7655\n",
      "Epoch: 5 Avg_cost: 0.0012516378164291382\n",
      "Accuracy:  0.776\n",
      "Epoch: 6 Avg_cost: 0.0005141276717185974\n",
      "Accuracy:  0.7785\n",
      "Epoch: 7 Avg_cost: 0.0008455970883369445\n",
      "Accuracy:  0.7649\n",
      "Epoch: 8 Avg_cost: 0.0009539464712142945\n",
      "Accuracy:  0.7782\n",
      "Epoch: 9 Avg_cost: 0.0006356188654899598\n",
      "Accuracy:  0.7654\n",
      "Epoch: 10 Avg_cost: 0.0005966569781303406\n",
      "Accuracy:  0.763\n",
      "Done\n"
     ]
    }
   ],
   "source": [
    "from load_cifar10 import load_cifar10\n",
    "from vgg16 import vgg16\n",
    "from cifar10_train import cifar10_train\n",
    "\n",
    "image_datas, label_datas = load_cifar10(path = 'cifardata/cifar-10-batches-py/')\n",
    "model = vgg16(input_shape=[32,32,3], num_classes=10, light_ver = True)\n",
    "model.train(lr=1e-3, optimizer = tf.train.AdamOptimizer)\n",
    "cifar10_train(model,input_datas = image_datas, input_labels = label_datas, batch_size = 100, epochs = 10)"
   ]
  },
  {
   "cell_type": "code",
   "execution_count": 0,
   "metadata": {
    "colab": {},
    "colab_type": "code",
    "id": "PHjuphxzWbF4"
   },
   "outputs": [],
   "source": []
  }
 ],
 "metadata": {
  "accelerator": "GPU",
  "colab": {
   "collapsed_sections": [],
   "name": "cifar10(vgg16).ipynb",
   "provenance": [],
   "version": "0.3.2"
  },
  "kernelspec": {
   "display_name": "Python 3",
   "language": "python",
   "name": "python3"
  },
  "language_info": {
   "codemirror_mode": {
    "name": "ipython",
    "version": 3
   },
   "file_extension": ".py",
   "mimetype": "text/x-python",
   "name": "python",
   "nbconvert_exporter": "python",
   "pygments_lexer": "ipython3",
   "version": "3.6.6"
  }
 },
 "nbformat": 4,
 "nbformat_minor": 1
}
