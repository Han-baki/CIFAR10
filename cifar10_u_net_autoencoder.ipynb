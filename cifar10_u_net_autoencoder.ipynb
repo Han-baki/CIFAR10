{
 "cells": [
  {
   "cell_type": "code",
   "execution_count": 0,
   "metadata": {
    "colab": {},
    "colab_type": "code",
    "id": "SxkaSdFar_pw"
   },
   "outputs": [],
   "source": [
    "from google.colab import drive\n",
    "drive.mount('/content/drive')"
   ]
  },
  {
   "cell_type": "code",
   "execution_count": 0,
   "metadata": {
    "colab": {},
    "colab_type": "code",
    "id": "3aQPclUWsKWh"
   },
   "outputs": [],
   "source": [
    "import os\n",
    "os.chdir('/content/drive/My Drive/cifar10_project')\n",
    "os.getcwd()"
   ]
  },
  {
   "cell_type": "code",
   "execution_count": 0,
   "metadata": {
    "colab": {},
    "colab_type": "code",
    "id": "3zTL_kVUsKUZ"
   },
   "outputs": [],
   "source": [
    "import tensorflow as tf\n",
    "\n",
    "from load_cifar10 import load_cifar10\n",
    "from cifar10_train import cifar10_train\n",
    "from cifar10_train import noise, noise_batch\n",
    "from u_net import UNetwork\n",
    "\n",
    "image_datas, label_datas = load_cifar10(path = 'cifardata/cifar-10-batches-py/')\n",
    "\n",
    "sess = tf.Session()\n",
    "\n",
    "model = UNetwork(input_shape = [32,32,3], output_shape = [32,32,3])\n",
    "model.train()\n",
    "cifar10_train(model,sess,input_datas = image_datas, input_labels = image_datas, batch_size = 100, epochs = 10, print_accuracy = False, noise = True)"
   ]
  },
  {
   "cell_type": "code",
   "execution_count": 0,
   "metadata": {
    "colab": {},
    "colab_type": "code",
    "id": "dbGt48oCsKQR"
   },
   "outputs": [],
   "source": [
    "import numpy as np\n",
    "import matplotlib.pyplot as plt\n",
    "\n",
    "test_img_batch = noise_batch(image_datas[5][:4])\n",
    "output_img = sess.run(model.logits, feed_dict = {model.input: test_img_batch})\n",
    "\n",
    "fig = plt.figure(figsize = (15,10))\n",
    "for i in range(4):\n",
    "    ax = fig.add_subplot(3,4,i+1)\n",
    "    ax.imshow(image_datas[5][i])\n",
    "    ax = fig.add_subplot(3,4,i+5)\n",
    "    ax.imshow(test_img_batch[i])\n",
    "    ax = fig.add_subplot(3,4,i+9)\n",
    "    ax.imshow(output_img[i])\n",
    "    \n",
    "plt.savefig('samples/u_net.png', bbox_inches='tight')\n",
    "plt.show()"
   ]
  }
 ],
 "metadata": {
  "colab": {
   "collapsed_sections": [],
   "name": "cifar10_u_net_autoencoder.ipynb",
   "provenance": [],
   "version": "0.3.2"
  },
  "kernelspec": {
   "display_name": "Python 3",
   "language": "python",
   "name": "python3"
  },
  "language_info": {
   "codemirror_mode": {
    "name": "ipython",
    "version": 3
   },
   "file_extension": ".py",
   "mimetype": "text/x-python",
   "name": "python",
   "nbconvert_exporter": "python",
   "pygments_lexer": "ipython3",
   "version": "3.6.6"
  }
 },
 "nbformat": 4,
 "nbformat_minor": 1
}
